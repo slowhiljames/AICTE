{
 "cells": [
  {
   "cell_type": "markdown",
   "metadata": {
    "id": "bcmj3GrmF16a"
   },
   "source": [
    "# Load the MNIST Dataset"
   ]
  },
  {
   "cell_type": "code",
   "execution_count": 1,
   "metadata": {
    "colab": {
     "base_uri": "https://localhost:8080/"
    },
    "id": "stzWMd-zFl0k",
    "outputId": "ebd09a00-07c9-442f-d16c-243db48fe5e4"
   },
   "outputs": [
    {
     "name": "stdout",
     "output_type": "stream",
     "text": [
      "2.18.0\n"
     ]
    }
   ],
   "source": [
    "import tensorflow as tf\n",
    "print(tf.__version__)"
   ]
  },
  {
   "cell_type": "code",
   "execution_count": 2,
   "metadata": {
    "id": "l3rJAQQbGMym"
   },
   "outputs": [],
   "source": [
    "mnist = tf.keras.datasets.mnist\n",
    "#from keras.datasets import mnist #loading the MNIST dataset\n",
    "import matplotlib.pyplot as plt"
   ]
  },
  {
   "cell_type": "markdown",
   "metadata": {
    "id": "zsChd8R7HmJB"
   },
   "source": [
    "** Plot the sample image**\n",
    "\n",
    "\n",
    "\n"
   ]
  },
  {
   "cell_type": "code",
   "execution_count": 3,
   "metadata": {
    "colab": {
     "base_uri": "https://localhost:8080/"
    },
    "id": "BlyweryiHlsK",
    "outputId": "253cabc9-c4cc-46bc-c6b4-17ff36933281"
   },
   "outputs": [],
   "source": [
    "MNIST_Image_data = mnist.load_data()"
   ]
  },
  {
   "cell_type": "code",
   "execution_count": 4,
   "metadata": {
    "id": "v7XkHMAMKpy8"
   },
   "outputs": [],
   "source": [
    "(x_train, y_train),(x_test,y_test)= MNIST_Image_data"
   ]
  },
  {
   "cell_type": "code",
   "execution_count": 5,
   "metadata": {
    "colab": {
     "base_uri": "https://localhost:8080/"
    },
    "id": "UeB03DKXKoL7",
    "outputId": "831a197a-d6e4-41be-ec71-e8db8c5ffcbb"
   },
   "outputs": [
    {
     "data": {
      "text/plain": [
       "((60000, 28, 28), (60000,), (10000, 28, 28), (10000,))"
      ]
     },
     "execution_count": 5,
     "metadata": {},
     "output_type": "execute_result"
    }
   ],
   "source": [
    "x_train.shape, y_train.shape, x_test.shape, y_test.shape"
   ]
  },
  {
   "cell_type": "code",
   "execution_count": 6,
   "metadata": {
    "colab": {
     "base_uri": "https://localhost:8080/",
     "height": 282
    },
    "id": "8fA2rOuRLNUz",
    "outputId": "91a99db5-8885-40e4-806f-cd725784d010"
   },
   "outputs": [
    {
     "data": {
      "text/plain": [
       "<matplotlib.image.AxesImage at 0x2ae58b1e630>"
      ]
     },
     "execution_count": 6,
     "metadata": {},
     "output_type": "execute_result"
    },
    {
     "data": {
      "image/png": "[encoded data removed]",
      "text/plain": [
       "<Figure size 640x480 with 1 Axes>"
      ]
     },
     "metadata": {},
     "output_type": "display_data"
    }
   ],
   "source": [
    "plt.imshow(x_train[10], cmap= plt.get_cmap('gray'))"
   ]
  },
  {
   "cell_type": "markdown",
   "metadata": {
    "id": "BmP7G0AOMUWG"
   },
   "source": [
    "### Model building using Multi-Layer Perceptron using MNIST Dataset."
   ]
  },
  {
   "cell_type": "markdown",
   "metadata": {
    "id": "VgWReUQGMl30"
   },
   "source": [
    "**Import the required libraries**"
   ]
  },
  {
   "cell_type": "code",
   "execution_count": 15,
   "metadata": {
    "id": "QZHcNSUAMgSF"
   },
   "outputs": [],
   "source": [
    "import numpy as np\n",
    "from keras.models import Sequential\n",
    "from keras.layers import Dense\n",
    "# from keras.utils import np_utils\n",
    "from tensorflow.keras.utils import to_categorical"
   ]
  },
  {
   "cell_type": "code",
   "execution_count": 16,
   "metadata": {
    "colab": {
     "base_uri": "https://localhost:8080/"
    },
    "id": "SoeZdo6eRG4h",
    "outputId": "0570c950-bcdf-4d7a-890c-bbbec22bcf1d"
   },
   "outputs": [
    {
     "data": {
      "text/plain": [
       "(60000, 28, 28)"
      ]
     },
     "execution_count": 16,
     "metadata": {},
     "output_type": "execute_result"
    }
   ],
   "source": [
    "x_train.shape[0], x_train.shape[1], x_train.shape[2]"
   ]
  },
  {
   "cell_type": "markdown",
   "metadata": {
    "id": "ZQnyUNvGHILo"
   },
   "source": [
    "# Reshaping the data\n",
    " "
   ]
  },
  {
   "cell_type": "code",
   "execution_count": 17,
   "metadata": {
    "id": "7V7eScbeQ7lm"
   },
   "outputs": [],
   "source": [
    "\n",
    "number_pix = x_train.shape[1] * x_train.shape[2] # 28 * 28 = 784 pixels\n",
    "\n"
   ]
  },
  {
   "cell_type": "code",
   "execution_count": 18,
   "metadata": {
    "id": "o-sjJTrmRpFT"
   },
   "outputs": [],
   "source": [
    "X_train = x_train.reshape(x_train.shape[0], number_pix).astype('float32')\n",
    "X_test = x_test.reshape(x_test.shape[0], number_pix).astype('float32')"
   ]
  },
  {
   "cell_type": "code",
   "execution_count": 19,
   "metadata": {
    "colab": {
     "base_uri": "https://localhost:8080/"
    },
    "id": "sQYRQ2KzR3LX",
    "outputId": "82ae338e-29c1-4a62-8568-d47ab10fdf0b"
   },
   "outputs": [
    {
     "data": {
      "text/plain": [
       "((60000, 784), dtype('float32'), (10000, 784), dtype('float32'))"
      ]
     },
     "execution_count": 19,
     "metadata": {},
     "output_type": "execute_result"
    }
   ],
   "source": [
    "X_train.shape, X_train.dtype, X_test.shape, X_test.dtype"
   ]
  },
  {
   "cell_type": "markdown",
   "metadata": {
    "id": "xU_jR0__UGyH"
   },
   "source": [
    "# Normalize the data"
   ]
  },
  {
   "cell_type": "code",
   "execution_count": 20,
   "metadata": {
    "id": "o3KNHlhETXNs"
   },
   "outputs": [],
   "source": [
    "X_train = X_train / 255  # Scaling values from (0,255) -> (0,1)\n",
    "X_test = X_test / 255   # Scaling values from (0,255) -> (0,1)"
   ]
  },
  {
   "cell_type": "markdown",
   "metadata": {
    "id": "e4Gj_PKHUjQq"
   },
   "source": [
    "# One-hot encoding for labels"
   ]
  },
  {
   "cell_type": "code",
   "execution_count": 23,
   "metadata": {
    "colab": {
     "base_uri": "https://localhost:8080/"
    },
    "id": "2HaCjsQeHhyl",
    "outputId": "e35b4b9b-e7a3-4c37-962c-ae6358f0aae5"
   },
   "outputs": [
    {
     "name": "stdout",
     "output_type": "stream",
     "text": [
      "Shape before one-hot encoding:  (60000,)\n",
      "Shape after one-hot encoding:  (60000, 10)\n"
     ]
    }
   ],
   "source": [
    "# n_classes = 10\n",
    "# print(\"Shape before one-hot encoding: \", y_train.shape)\n",
    "# Y_train = np_utils.to_categorical(y_train,n_classes)\n",
    "# Y_test = np_utils.to_categorical(y_test, n_classes)\n",
    "# print(\"Shape after one-hot encoding: \", Y_train.shape)\n",
    "\n",
    "from keras.utils import to_categorical  # Correct import for one-hot encoding\n",
    "\n",
    "n_classes = 10\n",
    "print(\"Shape before one-hot encoding: \", y_train.shape)\n",
    "Y_train = to_categorical(y_train, n_classes)  # Use to_categorical directly\n",
    "Y_test = to_categorical(y_test, n_classes)\n",
    "print(\"Shape after one-hot encoding: \", Y_train.shape)\n"
   ]
  },
  {
   "cell_type": "markdown",
   "metadata": {
    "id": "H1qRkNqBaijx"
   },
   "source": [
    "# Build the MLP model"
   ]
  },
  {
   "cell_type": "code",
   "execution_count": 24,
   "metadata": {
    "id": "cFmJTd5Haqoc"
   },
   "outputs": [
    {
     "name": "stderr",
     "output_type": "stream",
     "text": [
      "C:\\Users\\kalim\\AppData\\Roaming\\Python\\Python312\\site-packages\\keras\\src\\layers\\core\\dense.py:87: UserWarning: Do not pass an `input_shape`/`input_dim` argument to a layer. When using Sequential models, prefer using an `Input(shape)` object as the first layer in the model instead.\n",
      "  super().__init__(activity_regularizer=activity_regularizer, **kwargs)\n"
     ]
    }
   ],
   "source": [
    "model = Sequential()\n",
    "model.add(Dense(number_pix, input_shape=(number_pix,), activation='relu'))\n",
    "model.add(Dense(n_classes, activation='softmax'))"
   ]
  },
  {
   "cell_type": "code",
   "execution_count": 25,
   "metadata": {
    "colab": {
     "base_uri": "https://localhost:8080/"
    },
    "id": "3VuhJmuDILFb",
    "outputId": "514dfce8-cc34-497b-ade9-6741c8996d76"
   },
   "outputs": [
    {
     "data": {
      "text/html": [
       "<pre style=\"white-space:pre;overflow-x:auto;line-height:normal;font-family:Menlo,'DejaVu Sans Mono',consolas,'Courier New',monospace\"><span style=\"font-weight: bold\">Model: \"sequential\"</span>\n",
       "</pre>\n"
      ],
      "text/plain": [
       "\u001b[1mModel: \"sequential\"\u001b[0m\n"
      ]
     },
     "metadata": {},
     "output_type": "display_data"
    },
    {
     "data": {
      "text/html": [
       "<pre style=\"white-space:pre;overflow-x:auto;line-height:normal;font-family:Menlo,'DejaVu Sans Mono',consolas,'Courier New',monospace\">┏━━━━━━━━━━━━━━━━━━━━━━━━━━━━━━━━━┳━━━━━━━━━━━━━━━━━━━━━━━━┳━━━━━━━━━━━━━━━┓\n",
       "┃<span style=\"font-weight: bold\"> Layer (type)                    </span>┃<span style=\"font-weight: bold\"> Output Shape           </span>┃<span style=\"font-weight: bold\">       Param # </span>┃\n",
       "┡━━━━━━━━━━━━━━━━━━━━━━━━━━━━━━━━━╇━━━━━━━━━━━━━━━━━━━━━━━━╇━━━━━━━━━━━━━━━┩\n",
       "│ dense (<span style=\"color: #0087ff; text-decoration-color: #0087ff\">Dense</span>)                   │ (<span style=\"color: #00d7ff; text-decoration-color: #00d7ff\">None</span>, <span style=\"color: #00af00; text-decoration-color: #00af00\">784</span>)            │       <span style=\"color: #00af00; text-decoration-color: #00af00\">615,440</span> │\n",
       "├─────────────────────────────────┼────────────────────────┼───────────────┤\n",
       "│ dense_1 (<span style=\"color: #0087ff; text-decoration-color: #0087ff\">Dense</span>)                 │ (<span style=\"color: #00d7ff; text-decoration-color: #00d7ff\">None</span>, <span style=\"color: #00af00; text-decoration-color: #00af00\">10</span>)             │         <span style=\"color: #00af00; text-decoration-color: #00af00\">7,850</span> │\n",
       "└─────────────────────────────────┴────────────────────────┴───────────────┘\n",
       "</pre>\n"
      ],
      "text/plain": [
       "┏━━━━━━━━━━━━━━━━━━━━━━━━━━━━━━━━━┳━━━━━━━━━━━━━━━━━━━━━━━━┳━━━━━━━━━━━━━━━┓\n",
       "┃\u001b[1m \u001b[0m\u001b[1mLayer (type)                   \u001b[0m\u001b[1m \u001b[0m┃\u001b[1m \u001b[0m\u001b[1mOutput Shape          \u001b[0m\u001b[1m \u001b[0m┃\u001b[1m \u001b[0m\u001b[1m      Param #\u001b[0m\u001b[1m \u001b[0m┃\n",
       "┡━━━━━━━━━━━━━━━━━━━━━━━━━━━━━━━━━╇━━━━━━━━━━━━━━━━━━━━━━━━╇━━━━━━━━━━━━━━━┩\n",
       "│ dense (\u001b[38;5;33mDense\u001b[0m)                   │ (\u001b[38;5;45mNone\u001b[0m, \u001b[38;5;34m784\u001b[0m)            │       \u001b[38;5;34m615,440\u001b[0m │\n",
       "├─────────────────────────────────┼────────────────────────┼───────────────┤\n",
       "│ dense_1 (\u001b[38;5;33mDense\u001b[0m)                 │ (\u001b[38;5;45mNone\u001b[0m, \u001b[38;5;34m10\u001b[0m)             │         \u001b[38;5;34m7,850\u001b[0m │\n",
       "└─────────────────────────────────┴────────────────────────┴───────────────┘\n"
      ]
     },
     "metadata": {},
     "output_type": "display_data"
    },
    {
     "data": {
      "text/html": [
       "<pre style=\"white-space:pre;overflow-x:auto;line-height:normal;font-family:Menlo,'DejaVu Sans Mono',consolas,'Courier New',monospace\"><span style=\"font-weight: bold\"> Total params: </span><span style=\"color: #00af00; text-decoration-color: #00af00\">623,290</span> (2.38 MB)\n",
       "</pre>\n"
      ],
      "text/plain": [
       "\u001b[1m Total params: \u001b[0m\u001b[38;5;34m623,290\u001b[0m (2.38 MB)\n"
      ]
     },
     "metadata": {},
     "output_type": "display_data"
    },
    {
     "data": {
      "text/html": [
       "<pre style=\"white-space:pre;overflow-x:auto;line-height:normal;font-family:Menlo,'DejaVu Sans Mono',consolas,'Courier New',monospace\"><span style=\"font-weight: bold\"> Trainable params: </span><span style=\"color: #00af00; text-decoration-color: #00af00\">623,290</span> (2.38 MB)\n",
       "</pre>\n"
      ],
      "text/plain": [
       "\u001b[1m Trainable params: \u001b[0m\u001b[38;5;34m623,290\u001b[0m (2.38 MB)\n"
      ]
     },
     "metadata": {},
     "output_type": "display_data"
    },
    {
     "data": {
      "text/html": [
       "<pre style=\"white-space:pre;overflow-x:auto;line-height:normal;font-family:Menlo,'DejaVu Sans Mono',consolas,'Courier New',monospace\"><span style=\"font-weight: bold\"> Non-trainable params: </span><span style=\"color: #00af00; text-decoration-color: #00af00\">0</span> (0.00 B)\n",
       "</pre>\n"
      ],
      "text/plain": [
       "\u001b[1m Non-trainable params: \u001b[0m\u001b[38;5;34m0\u001b[0m (0.00 B)\n"
      ]
     },
     "metadata": {},
     "output_type": "display_data"
    }
   ],
   "source": [
    "model.summary()"
   ]
  },
  {
   "cell_type": "code",
   "execution_count": 26,
   "metadata": {
    "id": "Y6GSO8WzKR3h"
   },
   "outputs": [],
   "source": [
    "# Compile the midel\n",
    "model.compile(loss='categorical_crossentropy', metrics=['accuracy'], optimizer='adam')"
   ]
  },
  {
   "cell_type": "markdown",
   "metadata": {
    "id": "JIrXFeTwceSQ"
   },
   "source": [
    "# Run the MLP model"
   ]
  },
  {
   "cell_type": "code",
   "execution_count": 27,
   "metadata": {
    "colab": {
     "base_uri": "https://localhost:8080/"
    },
    "id": "usWP6trjcigL",
    "outputId": "ba5b16a2-2299-4b48-ea83-893832535ed4"
   },
   "outputs": [
    {
     "name": "stdout",
     "output_type": "stream",
     "text": [
      "Epoch 1/10\n",
      "300/300 - 4s - 14ms/step - accuracy: 0.9220 - loss: 0.2754 - val_accuracy: 0.9585 - val_loss: 0.1397\n",
      "Epoch 2/10\n",
      "300/300 - 3s - 9ms/step - accuracy: 0.9671 - loss: 0.1124 - val_accuracy: 0.9706 - val_loss: 0.0983\n",
      "Epoch 3/10\n",
      "300/300 - 2s - 8ms/step - accuracy: 0.9792 - loss: 0.0715 - val_accuracy: 0.9768 - val_loss: 0.0761\n",
      "Epoch 4/10\n",
      "300/300 - 2s - 8ms/step - accuracy: 0.9851 - loss: 0.0514 - val_accuracy: 0.9798 - val_loss: 0.0667\n",
      "Epoch 5/10\n",
      "300/300 - 2s - 7ms/step - accuracy: 0.9893 - loss: 0.0372 - val_accuracy: 0.9794 - val_loss: 0.0642\n",
      "Epoch 6/10\n",
      "300/300 - 2s - 7ms/step - accuracy: 0.9927 - loss: 0.0269 - val_accuracy: 0.9798 - val_loss: 0.0649\n",
      "Epoch 7/10\n",
      "300/300 - 2s - 7ms/step - accuracy: 0.9947 - loss: 0.0206 - val_accuracy: 0.9799 - val_loss: 0.0621\n",
      "Epoch 8/10\n",
      "300/300 - 2s - 7ms/step - accuracy: 0.9968 - loss: 0.0142 - val_accuracy: 0.9805 - val_loss: 0.0611\n",
      "Epoch 9/10\n",
      "300/300 - 2s - 7ms/step - accuracy: 0.9979 - loss: 0.0105 - val_accuracy: 0.9811 - val_loss: 0.0630\n",
      "Epoch 10/10\n",
      "300/300 - 2s - 7ms/step - accuracy: 0.9984 - loss: 0.0081 - val_accuracy: 0.9827 - val_loss: 0.0562\n",
      "The error is: 1.73%\n"
     ]
    }
   ],
   "source": [
    "model.fit(X_train, Y_train, validation_data=(X_test, Y_test), epochs =10, batch_size = 200, verbose=2)\n",
    "score = model.evaluate(X_test,Y_test, verbose=0)\n",
    "print('The error is: %.2f%%'%(100-score[1]*100))"
   ]
  },
  {
   "cell_type": "markdown",
   "metadata": {
    "id": "o9Pu8aM6Q4sD"
   },
   "source": [
    "# Summary\n",
    "\n",
    "* With the MLP, we got error rate is of 1.84%. Means the accuract is about 99.84%.\n",
    "* Lets see what will be the accuracy of MNIST digit classification by using CNN. [Chick here](https://github.com/ajju198821/Deep-Learning-Work/blob/main/MNIST_digit_classigication_by_CNN.ipynb) to look at it."
   ]
  }
 ],
 "metadata": {
  "colab": {
   "name": "MNIST Digit classification by MLP .ipynb",
   "provenance": []
  },
  "kernelspec": {
   "display_name": ".conda",
   "language": "python",
   "name": "python3"
  },
  "language_info": {
   "codemirror_mode": {
    "name": "ipython",
    "version": 3
   },
   "file_extension": ".py",
   "mimetype": "text/x-python",
   "name": "python",
   "nbconvert_exporter": "python",
   "pygments_lexer": "ipython3",
   "version": "3.12.4"
  }
 },
 "nbformat": 4,
 "nbformat_minor": 0
}
